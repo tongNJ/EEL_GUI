{
 "cells": [
  {
   "cell_type": "code",
   "execution_count": 1,
   "metadata": {},
   "outputs": [],
   "source": [
    "import concurrent.futures\n",
    "import pandas as pd\n",
    "import time\n",
    "\n"
   ]
  },
  {
   "cell_type": "code",
   "execution_count": 2,
   "metadata": {},
   "outputs": [],
   "source": [
    "\n",
    "f1 = 'ffpos1_324307_70248356_28022022_021412_1.csv'\n",
    "f2 = 'ffpos1_324312_70250881_28022022_021405_1.csv'\n",
    "f3 = 'ffpos1_324328_70251863_28022022_022701_1.csv'\n",
    "f4 = 'ffpos1_356225_70262810_28022022_021413_1-Copy.csv'\n",
    "f5 = 'ffpos1_356225_70262810_28022022_021413_1.csv'\n",
    "files = [f1,f2,f3,f4,f5]"
   ]
  },
  {
   "cell_type": "code",
   "execution_count": 3,
   "metadata": {},
   "outputs": [
    {
     "name": "stdout",
     "output_type": "stream",
     "text": [
      "sleep 1 second(s)\n",
      "sleep 1 second(s)\n",
      "sleep 1 second(s)\n",
      "sleep 1 second(s)\n",
      "sleep 1 second(s)\n"
     ]
    }
   ],
   "source": [
    "\n",
    "\n",
    "df_all = []\n",
    "s = 1\n",
    "for file in files:\n",
    "  df = pd.read_csv(file,encoding='cp1252')\n",
    "  # time.sleep(1)\n",
    "  print(f'sleep {s} second(s)')\n",
    "  df_all.append(df)\n",
    "  # s+=1\n"
   ]
  },
  {
   "cell_type": "code",
   "execution_count": null,
   "metadata": {},
   "outputs": [],
   "source": [
    "with concurrent.futures.ThreadPoolExecutor() as executor:\n",
    "  df_all = []\n",
    "  s = 1\n",
    "  for file in files:\n",
    "    df = pd.read_csv(file,encoding='cp1252')\n",
    "    # time.sleep(1)\n",
    "    print(f'sleep {s} second(s)')\n",
    "    df_all.append(df)\n",
    "    # s+=1"
   ]
  },
  {
   "cell_type": "code",
   "execution_count": 4,
   "metadata": {},
   "outputs": [
    {
     "name": "stdout",
     "output_type": "stream",
     "text": [
      "sleep 1 second(s)\n",
      "sleep 1 second(s)\n",
      "sleep 1 second(s)\n",
      "sleep 1 second(s)\n",
      "sleep 1 second(s)\n"
     ]
    }
   ],
   "source": [
    "def read_file(x):\n",
    "  df = pd.read_csv(x,encoding='cp1252')\n",
    "  # time.sleep(1)\n",
    "  print(f'sleep 1 second(s)')\n",
    "  return df\n",
    "\n",
    "df_all=[]\n",
    "with concurrent.futures.ThreadPoolExecutor() as executor:\n",
    "  results = [executor.submit(read_file,file) for file in files]\n",
    "\n",
    "  for f in concurrent.futures.as_completed(results):\n",
    "    df_all.append(f)\n",
    "\n"
   ]
  },
  {
   "cell_type": "code",
   "execution_count": null,
   "metadata": {},
   "outputs": [],
   "source": [
    "len(df_all)"
   ]
  },
  {
   "cell_type": "code",
   "execution_count": null,
   "metadata": {},
   "outputs": [],
   "source": []
  }
 ],
 "metadata": {
  "interpreter": {
   "hash": "c600f0460fd1f380d26857eb2f2012ce01ceb3a17956c3aebc2163e8b2561b7d"
  },
  "kernelspec": {
   "display_name": "Python 3.8.12 ('py38')",
   "language": "python",
   "name": "python3"
  },
  "language_info": {
   "codemirror_mode": {
    "name": "ipython",
    "version": 3
   },
   "file_extension": ".py",
   "mimetype": "text/x-python",
   "name": "python",
   "nbconvert_exporter": "python",
   "pygments_lexer": "ipython3",
   "version": "3.8.12"
  },
  "orig_nbformat": 4
 },
 "nbformat": 4,
 "nbformat_minor": 2
}
